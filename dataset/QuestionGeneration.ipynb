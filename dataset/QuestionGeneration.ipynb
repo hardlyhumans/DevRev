{
  "nbformat": 4,
  "nbformat_minor": 0,
  "metadata": {
    "colab": {
      "provenance": []
    },
    "kernelspec": {
      "name": "python3",
      "display_name": "Python 3"
    },
    "language_info": {
      "name": "python"
    },
    "accelerator": "GPU",
    "gpuClass": "standard"
  },
  "cells": [
    {
      "cell_type": "code",
      "execution_count": null,
      "metadata": {
        "colab": {
          "base_uri": "https://localhost:8080/"
        },
        "id": "qpvTCDxOg-KB",
        "outputId": "0b384983-d678-4d83-c12e-965a14dcb355"
      },
      "outputs": [
        {
          "output_type": "stream",
          "name": "stdout",
          "text": [
            "Looking in indexes: https://pypi.org/simple, https://us-python.pkg.dev/colab-wheels/public/simple/\n",
            "Requirement already satisfied: transformers==3.0.0 in /usr/local/lib/python3.8/dist-packages (3.0.0)\n",
            "Requirement already satisfied: requests in /usr/local/lib/python3.8/dist-packages (from transformers==3.0.0) (2.25.1)\n",
            "Requirement already satisfied: numpy in /usr/local/lib/python3.8/dist-packages (from transformers==3.0.0) (1.21.6)\n",
            "Requirement already satisfied: tokenizers==0.8.0-rc4 in /usr/local/lib/python3.8/dist-packages (from transformers==3.0.0) (0.8.0rc4)\n",
            "Requirement already satisfied: regex!=2019.12.17 in /usr/local/lib/python3.8/dist-packages (from transformers==3.0.0) (2022.6.2)\n",
            "Requirement already satisfied: packaging in /usr/local/lib/python3.8/dist-packages (from transformers==3.0.0) (21.3)\n",
            "Requirement already satisfied: tqdm>=4.27 in /usr/local/lib/python3.8/dist-packages (from transformers==3.0.0) (4.64.1)\n",
            "Requirement already satisfied: sentencepiece in /usr/local/lib/python3.8/dist-packages (from transformers==3.0.0) (0.1.97)\n",
            "Requirement already satisfied: sacremoses in /usr/local/lib/python3.8/dist-packages (from transformers==3.0.0) (0.0.53)\n",
            "Requirement already satisfied: filelock in /usr/local/lib/python3.8/dist-packages (from transformers==3.0.0) (3.9.0)\n",
            "Requirement already satisfied: pyparsing!=3.0.5,>=2.0.2 in /usr/local/lib/python3.8/dist-packages (from packaging->transformers==3.0.0) (3.0.9)\n",
            "Requirement already satisfied: certifi>=2017.4.17 in /usr/local/lib/python3.8/dist-packages (from requests->transformers==3.0.0) (2022.12.7)\n",
            "Requirement already satisfied: chardet<5,>=3.0.2 in /usr/local/lib/python3.8/dist-packages (from requests->transformers==3.0.0) (4.0.0)\n",
            "Requirement already satisfied: urllib3<1.27,>=1.21.1 in /usr/local/lib/python3.8/dist-packages (from requests->transformers==3.0.0) (1.24.3)\n",
            "Requirement already satisfied: idna<3,>=2.5 in /usr/local/lib/python3.8/dist-packages (from requests->transformers==3.0.0) (2.10)\n",
            "Requirement already satisfied: click in /usr/local/lib/python3.8/dist-packages (from sacremoses->transformers==3.0.0) (7.1.2)\n",
            "Requirement already satisfied: six in /usr/local/lib/python3.8/dist-packages (from sacremoses->transformers==3.0.0) (1.15.0)\n",
            "Requirement already satisfied: joblib in /usr/local/lib/python3.8/dist-packages (from sacremoses->transformers==3.0.0) (1.2.0)\n",
            "/usr/lib/python3.8/runpy.py:127: RuntimeWarning: 'nltk.downloader' found in sys.modules after import of package 'nltk', but prior to execution of 'nltk.downloader'; this may result in unpredictable behaviour\n",
            "  warn(RuntimeWarning(msg))\n",
            "[nltk_data] Downloading package punkt to /root/nltk_data...\n",
            "[nltk_data]   Package punkt is already up-to-date!\n",
            "fatal: destination path 'question_generation' already exists and is not an empty directory.\n"
          ]
        }
      ],
      "source": [
        "!pip install -U transformers==3.0.0\n",
        "!python -m nltk.downloader punkt\n",
        "!git clone https://github.com/patil-suraj/question_generation.git"
      ]
    },
    {
      "cell_type": "code",
      "source": [
        "%cd question_generation"
      ],
      "metadata": {
        "colab": {
          "base_uri": "https://localhost:8080/"
        },
        "id": "h3z5rS5UhLjf",
        "outputId": "d03009ef-b5b8-484a-a5e3-36051bc0eb06"
      },
      "execution_count": null,
      "outputs": [
        {
          "output_type": "stream",
          "name": "stdout",
          "text": [
            "/content/question_generation\n"
          ]
        }
      ]
    },
    {
      "cell_type": "code",
      "source": [
        "from pipelines import pipeline"
      ],
      "metadata": {
        "id": "dMSlM8rGja8d"
      },
      "execution_count": null,
      "outputs": []
    },
    {
      "cell_type": "code",
      "source": [
        "nlp = pipeline(\"question-generation\", model=\"valhalla/t5-base-qg-hl\")"
      ],
      "metadata": {
        "id": "idGAvtDQjdjM"
      },
      "execution_count": null,
      "outputs": []
    },
    {
      "cell_type": "code",
      "source": [
        "# text1 = \"BeyoncÃ© announced a hiatus from her music career in January 2010, heeding her mother's advice, 'to live life, to be inspired by things again'. During the break she and her father parted ways as business partners. BeyoncÃ©'s musical break lasted nine months and saw her visit multiple European cities, the Great Wall of China, the Egyptian pyramids, Australia, English music festivals and various museums and ballet performances.\""
      ],
      "metadata": {
        "id": "Rwep-BZMjkcO"
      },
      "execution_count": null,
      "outputs": []
    },
    {
      "cell_type": "code",
      "source": [
        "# nlp(text1)"
      ],
      "metadata": {
        "id": "2oGo-kikjkuP"
      },
      "execution_count": null,
      "outputs": []
    },
    {
      "cell_type": "code",
      "source": [
        "# !python \"/content/question_generation/pipelines.py\""
      ],
      "metadata": {
        "id": "q-lC5APDwu48"
      },
      "execution_count": null,
      "outputs": []
    },
    {
      "cell_type": "code",
      "source": [
        "# text2 = \"Numerous recordings of Chopin's works are available. On the occasion of the composer's bicentenary, the critics of The New York Times recommended performances by the following contemporary pianists (among many others): Martha Argerich, Vladimir Ashkenazy, Emanuel Ax, Evgeny Kissin, Murray Perahia, Maurizio Pollini and Krystian Zimerman. The Warsaw Chopin Society organizes the Grand prix du disque de F. Chopin for notable Chopin recordings, held every five years.\"\n",
        "# nlp(text2)"
      ],
      "metadata": {
        "id": "zDIfhTtD9mWd"
      },
      "execution_count": null,
      "outputs": []
    },
    {
      "cell_type": "code",
      "source": [
        "import pandas as pd"
      ],
      "metadata": {
        "id": "cs6BIFkRYLMl"
      },
      "execution_count": null,
      "outputs": []
    },
    {
      "cell_type": "code",
      "source": [
        "df_question = pd.read_csv(\"/content/sample_input_paragraph_sam.csv\")"
      ],
      "metadata": {
        "id": "LoMWiHMvZ1D5"
      },
      "execution_count": null,
      "outputs": []
    },
    {
      "cell_type": "code",
      "source": [
        "# nlp = pipeline(\"question-generation\")"
      ],
      "metadata": {
        "id": "xjb-A2qLuad8"
      },
      "execution_count": null,
      "outputs": []
    },
    {
      "cell_type": "code",
      "source": [
        "df_new = pd.DataFrame({\n",
        "    'theme':[],\n",
        "    'paragraph':[],\n",
        "    'question':[],\n",
        "    'answer':[]\n",
        "})\n",
        "for ind, row in df_question.iterrows():\n",
        "  if int(ind)%1000 == 0:\n",
        "    print(ind)\n",
        "  try:\n",
        "    anss = nlp(str(row['paragraph']))\n",
        "  except:\n",
        "    continue\n",
        "  for ans in anss:\n",
        "    new_row = {\n",
        "      'theme':row['theme'],\n",
        "      'paragraph':row['paragraph'],\n",
        "      'question':ans['question'],\n",
        "      'answer':ans['answer']\n",
        "    }\n",
        "    df_new = df_new.append(new_row, ignore_index=True)"
      ],
      "metadata": {
        "colab": {
          "base_uri": "https://localhost:8080/"
        },
        "id": "civjynLcHTF_",
        "outputId": "0dea2ff9-b153-4445-8b51-1e7569e41cf9"
      },
      "execution_count": null,
      "outputs": [
        {
          "metadata": {
            "tags": null
          },
          "name": "stdout",
          "output_type": "stream",
          "text": [
            "0\n",
            "1000\n",
            "2000\n",
            "3000\n",
            "4000\n",
            "5000\n",
            "6000\n",
            "7000\n",
            "8000\n",
            "9000\n",
            "10000\n"
          ]
        }
      ]
    },
    {
      "cell_type": "code",
      "source": [
        "df_new.to_csv(\"/content/synthetic_data.csv\")"
      ],
      "metadata": {
        "id": "Q70m8nutaers"
      },
      "execution_count": null,
      "outputs": []
    },
    {
      "cell_type": "code",
      "source": [
        "# nlp(\"Christmas is a termination event of a 12-day long festival. Many people don’t know the preceding events and only focus on the main festival. The 12 days of Christmas are all about fasting and penance to commemorate the suffering faced by Jesus. The last day of the 12-day series is known as Christmas and is celebrated on December 25 every year. It falls on the winter solstice day in the Roman calendar and is the darkest day of the year. The birth of Jesus comes as a ray of hope and marks the beginning of a journey towards enlightenment. Christmas is all about decorating Christmas trees, eating with families and friends, and having lots of fun. The core values of sharing are instilled in children from the beginning, and they learn to have a deep sense of moral values. Christmas shouldn’t be used only to have fun. It is the time when we should think about the plight of those people who are less fortunate than us. It is the time when charity works are organized all across the globe, and the revenues generated from them are used for the betterment of the poor and the needy. People use this time to reconnect with their family and friends over a delicious dinner; they play games and give them gifts. This fosters the familial ties between people and makes them happier and joyful.\")"
      ],
      "metadata": {
        "id": "jZY9uc-ldILp"
      },
      "execution_count": null,
      "outputs": []
    },
    {
      "cell_type": "code",
      "source": [],
      "metadata": {
        "id": "KFQkHgA-haQ7"
      },
      "execution_count": null,
      "outputs": []
    }
  ]
}