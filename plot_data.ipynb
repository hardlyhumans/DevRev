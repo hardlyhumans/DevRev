{
 "cells": [
  {
   "cell_type": "code",
   "execution_count": 2,
   "metadata": {},
   "outputs": [],
   "source": [
    "\n",
    "import numpy as np \n",
    "import matplotlib.pyplot as plt \n",
    "import seaborn as sns\n",
    "\n",
    "def plot_avarages(before, after, metric):\n",
    "    X = ['Accuracy','F1 score','Precision', \"\"]\n",
    "    SJF = before\n",
    "    RR = after\n",
    "\n",
    "    X_axis = np.arange(len(X))\n",
    "\n",
    "    plt.bar(X_axis - 0.2, SJF, 0.4, label = 'Before fine tuning')\n",
    "    plt.bar(X_axis + 0.2, RR, 0.4, label = 'After fine tuning')\n",
    "\n",
    "    plt.xticks(X_axis, X)\n",
    "    # plt.xlabel(\"Tasks\")\n",
    "    # plt.ylabel(metric)\n",
    "    plt.title(metric)\n",
    "    plt.ylim(0,1.2)\n",
    "    plt.legend()\n",
    "    sns.despine()\n",
    "    plt.savefig(\"figures/\"+metric+\".png\")\n",
    "    plt.show()\n"
   ]
  },
  {
   "cell_type": "code",
   "execution_count": 13,
   "metadata": {},
   "outputs": [],
   "source": [
    "\n",
    "\n",
    "def plot_bar(scores,  metric):\n",
    "    X = scores.keys()\n",
    "    # SJF = before\n",
    "    # RR = after\n",
    "\n",
    "    X_axis = np.arange(len(X))\n",
    "\n",
    "    plt.bar(X_axis, scores.values(), 0.4)\n",
    "\n",
    "    plt.xticks(X_axis, X)\n",
    "    # plt.xlabel(\"Tasks\")\n",
    "    # plt.ylabel(metric)\n",
    "    plt.title(metric)\n",
    "    plt.ylim(0,1)\n",
    "    # plt.legend()\n",
    "    sns.despine()\n",
    "    plt.savefig(\"figures/\"+metric+\".png\")\n",
    "    plt.show()\n"
   ]
  },
  {
   "cell_type": "code",
   "execution_count": 14,
   "metadata": {},
   "outputs": [],
   "source": [
    "retrival_scores =  {\n",
    "    \"mpnet-dot\" : 0.669,\n",
    "    \"distilroberta\": 0.6437,\n",
    "    \"MiniLM\" : 0.5825,\n",
    "    \"distillbert\": 0.6430,\n",
    "    \"mpnet\": 0.6424\n",
    "}"
   ]
  },
  {
   "cell_type": "code",
   "execution_count": 15,
   "metadata": {},
   "outputs": [
    {
     "data": {
      "image/png": "[encoded data removed]",
      "text/plain": [
       "<Figure size 432x288 with 1 Axes>"
      ]
     },
     "metadata": {
      "needs_background": "light"
     },
     "output_type": "display_data"
    }
   ],
   "source": [
    "plot_bar(retrival_scores, \"Retrival Models F1 scores\")"
   ]
  },
  {
   "cell_type": "code",
   "execution_count": 22,
   "metadata": {},
   "outputs": [
    {
     "name": "stderr",
     "output_type": "stream",
     "text": [
      "A subdirectory or file figures already exists.\n"
     ]
    }
   ],
   "source": [
    "!mkdir figures"
   ]
  },
  {
   "cell_type": "code",
   "execution_count": 23,
   "metadata": {},
   "outputs": [],
   "source": [
    "before = [0.787, 0.743, 0.631, 0.902]\n",
    "after = [0.835, 0.796, 0.720, 0.891]"
   ]
  },
  {
   "cell_type": "code",
   "execution_count": 24,
   "metadata": {},
   "outputs": [
    {
     "data": {
      "image/png": "[encoded data removed]",
      "text/plain": [
       "<Figure size 432x288 with 1 Axes>"
      ]
     },
     "metadata": {
      "needs_background": "light"
     },
     "output_type": "display_data"
    }
   ],
   "source": [
    "plot_avarages(before, after, \"Question similarity Model\")"
   ]
  },
  {
   "cell_type": "code",
   "execution_count": null,
   "metadata": {},
   "outputs": [],
   "source": []
  }
 ],
 "metadata": {
  "kernelspec": {
   "display_name": "Python 3",
   "language": "python",
   "name": "python3"
  },
  "language_info": {
   "codemirror_mode": {
    "name": "ipython",
    "version": 3
   },
   "file_extension": ".py",
   "mimetype": "text/x-python",
   "name": "python",
   "nbconvert_exporter": "python",
   "pygments_lexer": "ipython3",
   "version": "3.9.7"
  },
  "orig_nbformat": 4,
  "vscode": {
   "interpreter": {
    "hash": "c081257499a92776a7ff5343ee4d85420a7950a6ae97b0cb2aee7a7ddd41b7f2"
   }
  }
 },
 "nbformat": 4,
 "nbformat_minor": 2
}
